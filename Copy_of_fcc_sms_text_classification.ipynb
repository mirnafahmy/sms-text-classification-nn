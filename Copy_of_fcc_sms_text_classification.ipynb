{
  "cells": [
    {
      "cell_type": "markdown",
      "source": [
        "##Neural Network SMS Text Classifier"
      ],
      "metadata": {
        "id": "8w_DtD75GgFR"
      }
    },
    {
      "cell_type": "markdown",
      "source": [
        "Create a machine learning model that will classify SMS messages as either \"ham\" or \"spam\". A \"ham\" message is a normal message sent by a friend. A \"spam\" message is an advertisement or a message sent by a company."
      ],
      "metadata": {
        "id": "rujX_ZWDGiRj"
      }
    },
    {
      "cell_type": "code",
      "execution_count": null,
      "metadata": {
        "id": "8RZOuS9LWQvv",
        "colab": {
          "base_uri": "https://localhost:8080/"
        },
        "outputId": "36078407-0c80-4e30-c457-fcd6ef03656c"
      },
      "outputs": [
        {
          "output_type": "stream",
          "name": "stdout",
          "text": [
            "Requirement already satisfied: tensorflow-datasets in /usr/local/lib/python3.12/dist-packages (4.9.9)\n",
            "Requirement already satisfied: absl-py in /usr/local/lib/python3.12/dist-packages (from tensorflow-datasets) (1.4.0)\n",
            "Requirement already satisfied: array_record>=0.5.0 in /usr/local/lib/python3.12/dist-packages (from tensorflow-datasets) (0.8.1)\n",
            "Requirement already satisfied: dm-tree in /usr/local/lib/python3.12/dist-packages (from tensorflow-datasets) (0.1.9)\n",
            "Requirement already satisfied: etils>=1.9.1 in /usr/local/lib/python3.12/dist-packages (from etils[edc,enp,epath,epy,etree]>=1.9.1; python_version >= \"3.11\"->tensorflow-datasets) (1.13.0)\n",
            "Requirement already satisfied: immutabledict in /usr/local/lib/python3.12/dist-packages (from tensorflow-datasets) (4.2.1)\n",
            "Requirement already satisfied: numpy in /usr/local/lib/python3.12/dist-packages (from tensorflow-datasets) (2.0.2)\n",
            "Requirement already satisfied: promise in /usr/local/lib/python3.12/dist-packages (from tensorflow-datasets) (2.3)\n",
            "Requirement already satisfied: protobuf>=3.20 in /usr/local/lib/python3.12/dist-packages (from tensorflow-datasets) (5.29.5)\n",
            "Requirement already satisfied: psutil in /usr/local/lib/python3.12/dist-packages (from tensorflow-datasets) (5.9.5)\n",
            "Requirement already satisfied: pyarrow in /usr/local/lib/python3.12/dist-packages (from tensorflow-datasets) (18.1.0)\n",
            "Requirement already satisfied: requests>=2.19.0 in /usr/local/lib/python3.12/dist-packages (from tensorflow-datasets) (2.32.4)\n",
            "Requirement already satisfied: simple_parsing in /usr/local/lib/python3.12/dist-packages (from tensorflow-datasets) (0.1.7)\n",
            "Requirement already satisfied: tensorflow-metadata in /usr/local/lib/python3.12/dist-packages (from tensorflow-datasets) (1.17.2)\n",
            "Requirement already satisfied: termcolor in /usr/local/lib/python3.12/dist-packages (from tensorflow-datasets) (3.1.0)\n",
            "Requirement already satisfied: toml in /usr/local/lib/python3.12/dist-packages (from tensorflow-datasets) (0.10.2)\n",
            "Requirement already satisfied: tqdm in /usr/local/lib/python3.12/dist-packages (from tensorflow-datasets) (4.67.1)\n",
            "Requirement already satisfied: wrapt in /usr/local/lib/python3.12/dist-packages (from tensorflow-datasets) (1.17.3)\n",
            "Requirement already satisfied: einops in /usr/local/lib/python3.12/dist-packages (from etils[edc,enp,epath,epy,etree]>=1.9.1; python_version >= \"3.11\"->tensorflow-datasets) (0.8.1)\n",
            "Requirement already satisfied: fsspec in /usr/local/lib/python3.12/dist-packages (from etils[edc,enp,epath,epy,etree]>=1.9.1; python_version >= \"3.11\"->tensorflow-datasets) (2025.3.0)\n",
            "Requirement already satisfied: importlib_resources in /usr/local/lib/python3.12/dist-packages (from etils[edc,enp,epath,epy,etree]>=1.9.1; python_version >= \"3.11\"->tensorflow-datasets) (6.5.2)\n",
            "Requirement already satisfied: typing_extensions in /usr/local/lib/python3.12/dist-packages (from etils[edc,enp,epath,epy,etree]>=1.9.1; python_version >= \"3.11\"->tensorflow-datasets) (4.15.0)\n",
            "Requirement already satisfied: zipp in /usr/local/lib/python3.12/dist-packages (from etils[edc,enp,epath,epy,etree]>=1.9.1; python_version >= \"3.11\"->tensorflow-datasets) (3.23.0)\n",
            "Requirement already satisfied: charset_normalizer<4,>=2 in /usr/local/lib/python3.12/dist-packages (from requests>=2.19.0->tensorflow-datasets) (3.4.3)\n",
            "Requirement already satisfied: idna<4,>=2.5 in /usr/local/lib/python3.12/dist-packages (from requests>=2.19.0->tensorflow-datasets) (3.10)\n",
            "Requirement already satisfied: urllib3<3,>=1.21.1 in /usr/local/lib/python3.12/dist-packages (from requests>=2.19.0->tensorflow-datasets) (2.5.0)\n",
            "Requirement already satisfied: certifi>=2017.4.17 in /usr/local/lib/python3.12/dist-packages (from requests>=2.19.0->tensorflow-datasets) (2025.8.3)\n",
            "Requirement already satisfied: attrs>=18.2.0 in /usr/local/lib/python3.12/dist-packages (from dm-tree->tensorflow-datasets) (25.3.0)\n",
            "Requirement already satisfied: six in /usr/local/lib/python3.12/dist-packages (from promise->tensorflow-datasets) (1.17.0)\n",
            "Requirement already satisfied: docstring-parser<1.0,>=0.15 in /usr/local/lib/python3.12/dist-packages (from simple_parsing->tensorflow-datasets) (0.17.0)\n",
            "Requirement already satisfied: googleapis-common-protos<2,>=1.56.4 in /usr/local/lib/python3.12/dist-packages (from tensorflow-metadata->tensorflow-datasets) (1.70.0)\n",
            "2.19.0\n"
          ]
        }
      ],
      "source": [
        "# import libraries\n",
        "import tensorflow as tf\n",
        "import pandas as pd\n",
        "from tensorflow import keras\n",
        "!pip install tensorflow-datasets\n",
        "import tensorflow_datasets as tfds\n",
        "import numpy as np\n",
        "import matplotlib.pyplot as plt\n",
        "\n",
        "print(tf.__version__)"
      ]
    },
    {
      "cell_type": "code",
      "execution_count": null,
      "metadata": {
        "id": "lMHwYXHXCar3",
        "colab": {
          "base_uri": "https://localhost:8080/"
        },
        "outputId": "b66b6921-f257-4fd0-c980-8bf8ed1766cf"
      },
      "outputs": [
        {
          "output_type": "stream",
          "name": "stdout",
          "text": [
            "--2025-09-30 18:10:13--  https://cdn.freecodecamp.org/project-data/sms/train-data.tsv\n",
            "Resolving cdn.freecodecamp.org (cdn.freecodecamp.org)... 172.67.70.149, 104.26.2.33, 104.26.3.33, ...\n",
            "Connecting to cdn.freecodecamp.org (cdn.freecodecamp.org)|172.67.70.149|:443... connected.\n",
            "HTTP request sent, awaiting response... 200 OK\n",
            "Length: 358233 (350K) [text/tab-separated-values]\n",
            "Saving to: ‘train-data.tsv’\n",
            "\n",
            "train-data.tsv      100%[===================>] 349.84K  --.-KB/s    in 0.02s   \n",
            "\n",
            "2025-09-30 18:10:13 (13.9 MB/s) - ‘train-data.tsv’ saved [358233/358233]\n",
            "\n",
            "--2025-09-30 18:10:13--  https://cdn.freecodecamp.org/project-data/sms/valid-data.tsv\n",
            "Resolving cdn.freecodecamp.org (cdn.freecodecamp.org)... 172.67.70.149, 104.26.2.33, 104.26.3.33, ...\n",
            "Connecting to cdn.freecodecamp.org (cdn.freecodecamp.org)|172.67.70.149|:443... connected.\n",
            "HTTP request sent, awaiting response... 200 OK\n",
            "Length: 118774 (116K) [text/tab-separated-values]\n",
            "Saving to: ‘valid-data.tsv’\n",
            "\n",
            "valid-data.tsv      100%[===================>] 115.99K  --.-KB/s    in 0.006s  \n",
            "\n",
            "2025-09-30 18:10:14 (17.9 MB/s) - ‘valid-data.tsv’ saved [118774/118774]\n",
            "\n"
          ]
        }
      ],
      "source": [
        "# get data files\n",
        "!wget https://cdn.freecodecamp.org/project-data/sms/train-data.tsv\n",
        "!wget https://cdn.freecodecamp.org/project-data/sms/valid-data.tsv\n",
        "\n",
        "train_file_path = \"train-data.tsv\"\n",
        "test_file_path = \"valid-data.tsv\""
      ]
    },
    {
      "cell_type": "code",
      "execution_count": null,
      "metadata": {
        "id": "g_h508FEClxO"
      },
      "outputs": [],
      "source": [
        "train_df = pd.read_csv(train_file_path, sep='\\t', header=None, names=['label', 'message'])\n",
        "test_df = pd.read_csv(test_file_path, sep='\\t', header=None, names=['label', 'message'])"
      ]
    },
    {
      "cell_type": "code",
      "execution_count": null,
      "metadata": {
        "id": "zOMKywn4zReN"
      },
      "outputs": [],
      "source": [
        "train_labels = train_df['label'].map({'ham': 0, 'spam': 1}).values\n",
        "test_labels = test_df['label'].map({'ham': 0, 'spam': 1}).values"
      ]
    },
    {
      "cell_type": "code",
      "source": [
        "train_texts = train_df['message'].values\n",
        "test_texts = test_df['message'].values"
      ],
      "metadata": {
        "id": "UwgrYVzu0fZ4"
      },
      "execution_count": null,
      "outputs": []
    },
    {
      "cell_type": "markdown",
      "source": [
        "Vectorization"
      ],
      "metadata": {
        "id": "Rp5UTWNt0mZe"
      }
    },
    {
      "cell_type": "code",
      "source": [
        "from tensorflow.keras.layers import TextVectorization\n",
        "max_features = 10000\n",
        "sequence_length = 250\n",
        "\n",
        "vectorizer = TextVectorization(\n",
        "    max_tokens=max_features,\n",
        "    output_mode=\"int\",\n",
        "    output_sequence_length=sequence_length\n",
        ")\n",
        "vectorizer.adapt(train_texts)"
      ],
      "metadata": {
        "id": "G6TSckcy0ip6"
      },
      "execution_count": null,
      "outputs": []
    },
    {
      "cell_type": "markdown",
      "source": [
        "Build the Model"
      ],
      "metadata": {
        "id": "0TiQH6zJ02o0"
      }
    },
    {
      "cell_type": "code",
      "source": [
        "from tensorflow.keras import layers\n",
        "model = keras.Sequential([\n",
        "    vectorizer,\n",
        "    layers.Embedding(max_features + 1, 16),\n",
        "    layers.GlobalAveragePooling1D(),\n",
        "    layers.Dense(16, activation=\"relu\"),\n",
        "    layers.Dense(1, activation=\"sigmoid\")\n",
        "])\n",
        "\n",
        "model.compile(loss=\"binary_crossentropy\", optimizer=\"adam\", metrics=[\"accuracy\"])"
      ],
      "metadata": {
        "id": "g5rNm1GS0tbt"
      },
      "execution_count": null,
      "outputs": []
    },
    {
      "cell_type": "markdown",
      "source": [
        "Train the Model"
      ],
      "metadata": {
        "id": "gzQ9zuEe0_I1"
      }
    },
    {
      "cell_type": "code",
      "source": [
        "history = model.fit(\n",
        "    train_texts, train_labels,\n",
        "    epochs=30,\n",
        "    validation_data=(test_texts, test_labels),\n",
        "    verbose=2\n",
        ")"
      ],
      "metadata": {
        "colab": {
          "base_uri": "https://localhost:8080/"
        },
        "id": "bZaRvWSU06mJ",
        "outputId": "1f28e094-63bc-4918-9bcc-2ec7ff486a2b"
      },
      "execution_count": null,
      "outputs": [
        {
          "output_type": "stream",
          "name": "stdout",
          "text": [
            "Epoch 1/30\n",
            "131/131 - 1s - 9ms/step - accuracy: 0.9890 - loss: 0.0394 - val_accuracy: 0.9734 - val_loss: 0.0974\n",
            "Epoch 2/30\n",
            "131/131 - 1s - 9ms/step - accuracy: 0.9873 - loss: 0.0404 - val_accuracy: 0.9792 - val_loss: 0.0616\n",
            "Epoch 3/30\n",
            "131/131 - 1s - 5ms/step - accuracy: 0.9909 - loss: 0.0349 - val_accuracy: 0.9698 - val_loss: 0.0933\n",
            "Epoch 4/30\n",
            "131/131 - 1s - 5ms/step - accuracy: 0.9904 - loss: 0.0373 - val_accuracy: 0.9784 - val_loss: 0.0604\n",
            "Epoch 5/30\n",
            "131/131 - 1s - 5ms/step - accuracy: 0.9914 - loss: 0.0331 - val_accuracy: 0.9770 - val_loss: 0.0754\n",
            "Epoch 6/30\n",
            "131/131 - 1s - 5ms/step - accuracy: 0.9914 - loss: 0.0327 - val_accuracy: 0.9777 - val_loss: 0.0641\n",
            "Epoch 7/30\n",
            "131/131 - 1s - 5ms/step - accuracy: 0.9914 - loss: 0.0325 - val_accuracy: 0.9806 - val_loss: 0.0577\n",
            "Epoch 8/30\n",
            "131/131 - 1s - 6ms/step - accuracy: 0.9911 - loss: 0.0310 - val_accuracy: 0.9770 - val_loss: 0.0701\n",
            "Epoch 9/30\n",
            "131/131 - 1s - 5ms/step - accuracy: 0.9914 - loss: 0.0286 - val_accuracy: 0.9770 - val_loss: 0.0722\n",
            "Epoch 10/30\n",
            "131/131 - 1s - 5ms/step - accuracy: 0.9916 - loss: 0.0276 - val_accuracy: 0.9806 - val_loss: 0.0565\n",
            "Epoch 11/30\n",
            "131/131 - 1s - 5ms/step - accuracy: 0.9899 - loss: 0.0355 - val_accuracy: 0.9828 - val_loss: 0.0579\n",
            "Epoch 12/30\n",
            "131/131 - 1s - 5ms/step - accuracy: 0.9921 - loss: 0.0255 - val_accuracy: 0.9806 - val_loss: 0.0623\n",
            "Epoch 13/30\n",
            "131/131 - 1s - 5ms/step - accuracy: 0.9909 - loss: 0.0286 - val_accuracy: 0.9799 - val_loss: 0.0621\n",
            "Epoch 14/30\n",
            "131/131 - 1s - 5ms/step - accuracy: 0.9888 - loss: 0.0334 - val_accuracy: 0.9806 - val_loss: 0.0626\n",
            "Epoch 15/30\n",
            "131/131 - 1s - 6ms/step - accuracy: 0.9919 - loss: 0.0253 - val_accuracy: 0.9763 - val_loss: 0.0894\n",
            "Epoch 16/30\n",
            "131/131 - 1s - 6ms/step - accuracy: 0.9931 - loss: 0.0236 - val_accuracy: 0.9828 - val_loss: 0.0570\n",
            "Epoch 17/30\n",
            "131/131 - 1s - 8ms/step - accuracy: 0.9928 - loss: 0.0247 - val_accuracy: 0.9828 - val_loss: 0.0550\n",
            "Epoch 18/30\n",
            "131/131 - 1s - 8ms/step - accuracy: 0.9945 - loss: 0.0208 - val_accuracy: 0.9799 - val_loss: 0.0640\n",
            "Epoch 19/30\n",
            "131/131 - 1s - 5ms/step - accuracy: 0.9928 - loss: 0.0235 - val_accuracy: 0.9813 - val_loss: 0.0628\n",
            "Epoch 20/30\n",
            "131/131 - 1s - 6ms/step - accuracy: 0.9931 - loss: 0.0252 - val_accuracy: 0.9777 - val_loss: 0.0725\n",
            "Epoch 21/30\n",
            "131/131 - 1s - 5ms/step - accuracy: 0.9938 - loss: 0.0210 - val_accuracy: 0.9813 - val_loss: 0.0594\n",
            "Epoch 22/30\n",
            "131/131 - 1s - 6ms/step - accuracy: 0.9909 - loss: 0.0310 - val_accuracy: 0.9799 - val_loss: 0.0691\n",
            "Epoch 23/30\n",
            "131/131 - 1s - 9ms/step - accuracy: 0.9935 - loss: 0.0209 - val_accuracy: 0.9849 - val_loss: 0.0535\n",
            "Epoch 24/30\n",
            "131/131 - 1s - 5ms/step - accuracy: 0.9943 - loss: 0.0188 - val_accuracy: 0.9820 - val_loss: 0.0593\n",
            "Epoch 25/30\n",
            "131/131 - 1s - 10ms/step - accuracy: 0.9933 - loss: 0.0246 - val_accuracy: 0.9799 - val_loss: 0.0679\n",
            "Epoch 26/30\n",
            "131/131 - 1s - 6ms/step - accuracy: 0.9940 - loss: 0.0183 - val_accuracy: 0.9835 - val_loss: 0.0551\n",
            "Epoch 27/30\n",
            "131/131 - 1s - 5ms/step - accuracy: 0.9947 - loss: 0.0182 - val_accuracy: 0.9784 - val_loss: 0.0750\n",
            "Epoch 28/30\n",
            "131/131 - 1s - 5ms/step - accuracy: 0.9938 - loss: 0.0185 - val_accuracy: 0.9806 - val_loss: 0.0645\n",
            "Epoch 29/30\n",
            "131/131 - 1s - 5ms/step - accuracy: 0.9943 - loss: 0.0195 - val_accuracy: 0.9849 - val_loss: 0.0526\n",
            "Epoch 30/30\n",
            "131/131 - 1s - 6ms/step - accuracy: 0.9940 - loss: 0.0188 - val_accuracy: 0.9727 - val_loss: 0.0891\n"
          ]
        }
      ]
    },
    {
      "cell_type": "code",
      "execution_count": null,
      "metadata": {
        "id": "J9tD9yACG6M9",
        "colab": {
          "base_uri": "https://localhost:8080/"
        },
        "outputId": "38d7d1ea-501d-4372-efab-e5ad39ebdf07"
      },
      "outputs": [
        {
          "output_type": "stream",
          "name": "stdout",
          "text": [
            "\u001b[1m1/1\u001b[0m \u001b[32m━━━━━━━━━━━━━━━━━━━━\u001b[0m\u001b[37m\u001b[0m \u001b[1m0s\u001b[0m 29ms/step\n",
            "[0.021219773218035698, 'ham']\n"
          ]
        }
      ],
      "source": [
        "# function to predict messages based on model\n",
        "# (should return list containing prediction and label, ex. [0.008318834938108921, 'ham'])\n",
        "def predict_message(pred_text):\n",
        "  input_text = tf.constant([pred_text])\n",
        "  prob = model.predict(input_text)[0][0]\n",
        "  label = \"spam\" if prob > 0.5 else \"ham\"\n",
        "  return [float(prob), label]\n",
        "\n",
        "pred_text = \"how are you doing today?\"\n",
        "\n",
        "prediction = predict_message(pred_text)\n",
        "print(prediction)"
      ]
    },
    {
      "cell_type": "markdown",
      "source": [
        "Test the Model"
      ],
      "metadata": {
        "id": "3qoPOaH9Gxv9"
      }
    },
    {
      "cell_type": "code",
      "execution_count": null,
      "metadata": {
        "id": "Dxotov85SjsC",
        "colab": {
          "base_uri": "https://localhost:8080/"
        },
        "outputId": "bdd9080a-cd7f-4001-a202-0660f893a782"
      },
      "outputs": [
        {
          "output_type": "stream",
          "name": "stdout",
          "text": [
            "\u001b[1m1/1\u001b[0m \u001b[32m━━━━━━━━━━━━━━━━━━━━\u001b[0m\u001b[37m\u001b[0m \u001b[1m0s\u001b[0m 31ms/step\n",
            "\u001b[1m1/1\u001b[0m \u001b[32m━━━━━━━━━━━━━━━━━━━━\u001b[0m\u001b[37m\u001b[0m \u001b[1m0s\u001b[0m 34ms/step\n",
            "\u001b[1m1/1\u001b[0m \u001b[32m━━━━━━━━━━━━━━━━━━━━\u001b[0m\u001b[37m\u001b[0m \u001b[1m0s\u001b[0m 30ms/step\n",
            "\u001b[1m1/1\u001b[0m \u001b[32m━━━━━━━━━━━━━━━━━━━━\u001b[0m\u001b[37m\u001b[0m \u001b[1m0s\u001b[0m 29ms/step\n",
            "\u001b[1m1/1\u001b[0m \u001b[32m━━━━━━━━━━━━━━━━━━━━\u001b[0m\u001b[37m\u001b[0m \u001b[1m0s\u001b[0m 28ms/step\n",
            "\u001b[1m1/1\u001b[0m \u001b[32m━━━━━━━━━━━━━━━━━━━━\u001b[0m\u001b[37m\u001b[0m \u001b[1m0s\u001b[0m 28ms/step\n",
            "\u001b[1m1/1\u001b[0m \u001b[32m━━━━━━━━━━━━━━━━━━━━\u001b[0m\u001b[37m\u001b[0m \u001b[1m0s\u001b[0m 27ms/step\n",
            "You passed the challenge. Great job!\n"
          ]
        }
      ],
      "source": [
        "# Run this cell to test your function and model. Do not modify contents.\n",
        "def test_predictions():\n",
        "  test_messages = [\"how are you doing today\",\n",
        "                   \"sale today! to stop texts call 98912460324\",\n",
        "                   \"i dont want to go. can we try it a different day? available sat\",\n",
        "                   \"our new mobile video service is live. just install on your phone to start watching.\",\n",
        "                   \"you have won £1000 cash! call to claim your prize.\",\n",
        "                   \"i'll bring it tomorrow. don't forget the milk.\",\n",
        "                   \"wow, is your arm alright. that happened to me one time too\"\n",
        "                  ]\n",
        "\n",
        "  test_answers = [\"ham\", \"spam\", \"ham\", \"spam\", \"spam\", \"ham\", \"ham\"]\n",
        "  passed = True\n",
        "\n",
        "  for msg, ans in zip(test_messages, test_answers):\n",
        "    prediction = predict_message(msg)\n",
        "    if prediction[1] != ans:\n",
        "      passed = False\n",
        "\n",
        "  if passed:\n",
        "    print(\"You passed the challenge. Great job!\")\n",
        "  else:\n",
        "    print(\"You haven't passed yet. Keep trying.\")\n",
        "\n",
        "test_predictions()\n"
      ]
    }
  ],
  "metadata": {
    "colab": {
      "provenance": [],
      "gpuType": "T4"
    },
    "kernelspec": {
      "display_name": "Python 3",
      "name": "python3"
    },
    "language_info": {},
    "accelerator": "GPU"
  },
  "nbformat": 4,
  "nbformat_minor": 0
}